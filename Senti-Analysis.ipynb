{
 "cells": [
  {
   "cell_type": "code",
   "execution_count": 1,
   "id": "06af7262",
   "metadata": {},
   "outputs": [],
   "source": [
    "import numpy as np\n",
    "import matplotlib.pyplot as plt\n",
    "import tensorflow as tf\n",
    "import pandas as pd\n",
    "import csv\n",
    "from tensorflow.keras.preprocessing.text import Tokenizer\n",
    "from tensorflow.keras.preprocessing.sequence import pad_sequences\n",
    "from tensorflow.keras import Sequential\n",
    "from tensorflow.keras.layers import InputLayer, LSTM, Dropout, Dense, Embedding ,Bidirectional, Conv1D, GlobalAveragePooling1D\n",
    "from sklearn.model_selection import train_test_split\n",
    "from sklearn.metrics import accuracy_score"
   ]
  },
  {
   "cell_type": "code",
   "execution_count": 2,
   "id": "d6434c4f",
   "metadata": {},
   "outputs": [
    {
     "name": "stdout",
     "output_type": "stream",
     "text": [
      "Num GPUs Available:  1\n"
     ]
    }
   ],
   "source": [
    "print(\"Num GPUs Available: \", len(tf.config.list_physical_devices('GPU')))\n",
    "gpus = tf.config.experimental.list_physical_devices('GPU')\n",
    "if gpus:\n",
    "    try:\n",
    "        for gpu in gpus:\n",
    "            tf.config.experimental.set_memory_growth(gpu, True)\n",
    "    except RuntimeError as e:\n",
    "        print(e)"
   ]
  },
  {
   "cell_type": "code",
   "execution_count": 3,
   "id": "e50164d4",
   "metadata": {},
   "outputs": [],
   "source": [
    "d = pd.read_csv('C:\\\\Users\\\\prtkm\\\\Jupyter_Notebooks\\\\senti_analysis\\\\Datasets\\\\FinalTrainingOnly.tsv', sep=\"\\t\", header=None )\n",
    "\n",
    "x=d[1]\n",
    "y=d[2]\n",
    "y=list(y)\n",
    "x=list(x)\n",
    "\n",
    "for i in range(len(x)):\n",
    "    if type(x[i])==float:\n",
    "        x[i]=\" \"\n",
    "        y[i]= 1\n",
    "\n",
    "y=np.array(y)"
   ]
  },
  {
   "cell_type": "code",
   "execution_count": 4,
   "id": "8b19ddf8",
   "metadata": {},
   "outputs": [],
   "source": [
    "v = pd.read_csv('C:\\\\Users\\\\prtkm\\\\Jupyter_Notebooks\\\\senti_analysis\\\\Datasets\\\\ValidationOnly.tsv', sep=\"\\t\", header=None )\n",
    "\n",
    "vx=v[1]\n",
    "vy=v[2]\n",
    "vy=list(vy)\n",
    "vx=list(vx)\n",
    "\n",
    "for i in range(len(vx)):\n",
    "    if type(vx[i])==float:\n",
    "        vx[i]=\" \"\n",
    "        vy[i]= 1\n",
    "\n",
    "vy=np.array(vy)"
   ]
  },
  {
   "cell_type": "code",
   "execution_count": 5,
   "id": "681e8793",
   "metadata": {},
   "outputs": [],
   "source": [
    "t = pd.read_csv('C:\\\\Users\\\\prtkm\\\\Jupyter_Notebooks\\\\senti_analysis\\\\Datasets\\\\FinalTest.tsv', sep=\"\\t\", header=None )\n",
    "tx=list(t[1])\n",
    "for i in range(len(tx)):\n",
    "    if type(tx[i])==float:\n",
    "        tx[i]=\" \""
   ]
  },
  {
   "cell_type": "code",
   "execution_count": 6,
   "id": "2a451d90",
   "metadata": {},
   "outputs": [],
   "source": [
    "ty = pd.read_csv('C:\\\\Users\\\\prtkm\\\\Jupyter_Notebooks\\\\senti_analysis\\\\Datasets\\\\Ty.txt', sep=\",\", header=None )\n",
    "sentiment = []\n",
    "for i in range(len(ty)):\n",
    "    if ty[1][i]=='negative':\n",
    "        sentiment.append(0)\n",
    "    elif ty[1][i]=='neutral':\n",
    "        sentiment.append(1)\n",
    "    elif ty[1][i]=='positive':\n",
    "        sentiment.append(2)\n",
    "\n",
    "ty = np.array(sentiment)"
   ]
  },
  {
   "cell_type": "code",
   "execution_count": 7,
   "id": "d8ed70d2",
   "metadata": {},
   "outputs": [],
   "source": [
    "tokenizer = Tokenizer(num_words=2500,split=' ')\n",
    "tokenizer.fit_on_texts(x)\n",
    "\n",
    "X= tokenizer.texts_to_sequences(x)\n",
    "X = pad_sequences(X,maxlen=50)\n",
    "\n",
    "VX= tokenizer.texts_to_sequences(vx)\n",
    "VX = pad_sequences(VX,maxlen=50)\n",
    "\n",
    "\n",
    "TX = tokenizer.texts_to_sequences(tx)\n",
    "TX = pad_sequences(TX,maxlen=50)"
   ]
  },
  {
   "cell_type": "code",
   "execution_count": 8,
   "id": "fa87141c",
   "metadata": {},
   "outputs": [],
   "source": [
    "vocab_size = 20000\n",
    "embed_size = 128"
   ]
  },
  {
   "cell_type": "code",
   "execution_count": 9,
   "id": "c395f37f",
   "metadata": {},
   "outputs": [
    {
     "name": "stdout",
     "output_type": "stream",
     "text": [
      "Model: \"sequential\"\n",
      "_________________________________________________________________\n",
      "Layer (type)                 Output Shape              Param #   \n",
      "=================================================================\n",
      "embedding (Embedding)        (None, 50, 128)           2560000   \n",
      "_________________________________________________________________\n",
      "bidirectional (Bidirectional (None, 256)               263168    \n",
      "_________________________________________________________________\n",
      "dense (Dense)                (None, 64)                16448     \n",
      "_________________________________________________________________\n",
      "dense_1 (Dense)              (None, 32)                2080      \n",
      "_________________________________________________________________\n",
      "dense_2 (Dense)              (None, 3)                 99        \n",
      "=================================================================\n",
      "Total params: 2,841,795\n",
      "Trainable params: 2,841,795\n",
      "Non-trainable params: 0\n",
      "_________________________________________________________________\n",
      "Epoch 1/10\n",
      "115/115 [==============================] - 11s 68ms/step - loss: 1.0164 - accuracy: 0.4402 - val_loss: 0.8158 - val_accuracy: 0.6230\n",
      "Epoch 2/10\n",
      "115/115 [==============================] - 9s 80ms/step - loss: 0.7980 - accuracy: 0.6325 - val_loss: 0.7615 - val_accuracy: 0.6730\n",
      "Epoch 3/10\n",
      "115/115 [==============================] - 9s 77ms/step - loss: 0.7314 - accuracy: 0.6826 - val_loss: 0.7218 - val_accuracy: 0.6980\n",
      "Epoch 4/10\n",
      "115/115 [==============================] - 9s 75ms/step - loss: 0.6862 - accuracy: 0.7127 - val_loss: 0.6649 - val_accuracy: 0.7353\n",
      "Epoch 5/10\n",
      "115/115 [==============================] - 9s 76ms/step - loss: 0.6340 - accuracy: 0.7406 - val_loss: 0.6718 - val_accuracy: 0.7187\n",
      "Epoch 6/10\n",
      "115/115 [==============================] - 8s 73ms/step - loss: 0.6195 - accuracy: 0.7542 - val_loss: 0.6145 - val_accuracy: 0.7690\n",
      "Epoch 7/10\n",
      "115/115 [==============================] - 9s 77ms/step - loss: 0.5477 - accuracy: 0.7877 - val_loss: 0.6020 - val_accuracy: 0.7777\n",
      "Epoch 8/10\n",
      "115/115 [==============================] - 8s 69ms/step - loss: 0.5243 - accuracy: 0.8020 - val_loss: 0.5849 - val_accuracy: 0.7933\n",
      "Epoch 9/10\n",
      "115/115 [==============================] - 7s 63ms/step - loss: 0.4724 - accuracy: 0.8236 - val_loss: 0.5632 - val_accuracy: 0.7910\n",
      "Epoch 10/10\n",
      "115/115 [==============================] - 7s 61ms/step - loss: 0.4439 - accuracy: 0.8288 - val_loss: 0.5441 - val_accuracy: 0.8130\n"
     ]
    }
   ],
   "source": [
    "# Model no 1 \n",
    "\n",
    "bimodel = Sequential()\n",
    "bimodel.add(InputLayer(input_shape=X.shape[1]))\n",
    "bimodel.add(Embedding(vocab_size, embed_size))\n",
    "bimodel.add(Bidirectional(LSTM(128)))\n",
    "bimodel.add(Dense(64, activation='relu'))\n",
    "bimodel.add(Dense(32, activation='relu'))\n",
    "bimodel.add(Dense(3, activation='softmax'))\n",
    "\n",
    "bimodel.compile(loss='sparse_categorical_crossentropy', optimizer=tf.keras.optimizers.Adam(), metrics=['accuracy'])\n",
    "\n",
    "bimodel.summary()\n",
    "\n",
    "history1 = bimodel.fit(X, y, epochs=10, batch_size=128,verbose=1,validation_data=(VX,vy))"
   ]
  },
  {
   "cell_type": "code",
   "execution_count": 10,
   "id": "61e498b4",
   "metadata": {},
   "outputs": [
    {
     "name": "stdout",
     "output_type": "stream",
     "text": [
      "94/94 [==============================] - 1s 6ms/step - loss: 1.1107 - accuracy: 0.5967\n",
      "Test accuracy of BiLSTM model = 0.596666693687439\n"
     ]
    }
   ],
   "source": [
    "test_loss, test_acc = bimodel.evaluate(TX,ty)\n",
    "print(\"Test accuracy of BiLSTM model = \" + str(test_acc) )"
   ]
  },
  {
   "cell_type": "code",
   "execution_count": 11,
   "id": "f3738349",
   "metadata": {},
   "outputs": [
    {
     "name": "stdout",
     "output_type": "stream",
     "text": [
      "Model: \"sequential_1\"\n",
      "_________________________________________________________________\n",
      "Layer (type)                 Output Shape              Param #   \n",
      "=================================================================\n",
      "embedding_1 (Embedding)      (None, 50, 128)           2560000   \n",
      "_________________________________________________________________\n",
      "conv1d (Conv1D)              (None, 48, 64)            24640     \n",
      "_________________________________________________________________\n",
      "global_average_pooling1d (Gl (None, 64)                0         \n",
      "_________________________________________________________________\n",
      "dense_3 (Dense)              (None, 64)                4160      \n",
      "_________________________________________________________________\n",
      "dense_4 (Dense)              (None, 3)                 195       \n",
      "=================================================================\n",
      "Total params: 2,588,995\n",
      "Trainable params: 2,588,995\n",
      "Non-trainable params: 0\n",
      "_________________________________________________________________\n",
      "Epoch 1/10\n",
      "115/115 [==============================] - 9s 64ms/step - loss: 1.0517 - accuracy: 0.4207 - val_loss: 0.8610 - val_accuracy: 0.5930\n",
      "Epoch 2/10\n",
      "115/115 [==============================] - 6s 54ms/step - loss: 0.8207 - accuracy: 0.6091 - val_loss: 0.7936 - val_accuracy: 0.6393\n",
      "Epoch 3/10\n",
      "115/115 [==============================] - 5s 46ms/step - loss: 0.7681 - accuracy: 0.6543 - val_loss: 0.7707 - val_accuracy: 0.6473\n",
      "Epoch 4/10\n",
      "115/115 [==============================] - 6s 51ms/step - loss: 0.7351 - accuracy: 0.6756 - val_loss: 0.7367 - val_accuracy: 0.6780\n",
      "Epoch 5/10\n",
      "115/115 [==============================] - 7s 64ms/step - loss: 0.6894 - accuracy: 0.7024 - val_loss: 0.7473 - val_accuracy: 0.6823\n",
      "Epoch 6/10\n",
      "115/115 [==============================] - 8s 71ms/step - loss: 0.6832 - accuracy: 0.7082 - val_loss: 0.7020 - val_accuracy: 0.7060\n",
      "Epoch 7/10\n",
      "115/115 [==============================] - 7s 59ms/step - loss: 0.6522 - accuracy: 0.7327 - val_loss: 0.6811 - val_accuracy: 0.7257\n",
      "Epoch 8/10\n",
      "115/115 [==============================] - 10s 84ms/step - loss: 0.6335 - accuracy: 0.7405 - val_loss: 0.7162 - val_accuracy: 0.7047\n",
      "Epoch 9/10\n",
      "115/115 [==============================] - 9s 79ms/step - loss: 0.6721 - accuracy: 0.7205 - val_loss: 0.6731 - val_accuracy: 0.7290\n",
      "Epoch 10/10\n",
      "115/115 [==============================] - 7s 57ms/step - loss: 0.6085 - accuracy: 0.7517 - val_loss: 0.6718 - val_accuracy: 0.7283\n"
     ]
    }
   ],
   "source": [
    "# Model no 2 \n",
    "\n",
    "clmodel = Sequential()\n",
    "clmodel.add(InputLayer(input_shape=X.shape[1]))\n",
    "clmodel.add(Embedding(vocab_size, embed_size))\n",
    "clmodel.add(Conv1D(64, kernel_size=3))\n",
    "clmodel.add(GlobalAveragePooling1D())\n",
    "clmodel.add(Dense(64, activation='relu'))\n",
    "clmodel.add(Dense(3, activation='softmax'))\n",
    "\n",
    "clmodel.compile(loss='sparse_categorical_crossentropy', optimizer=tf.keras.optimizers.Adam(), metrics=['accuracy'])\n",
    "\n",
    "clmodel.summary()\n",
    "\n",
    "history2 = clmodel.fit(X, y, epochs=10, batch_size=128,verbose=1,validation_data=(VX,vy))"
   ]
  },
  {
   "cell_type": "code",
   "execution_count": 12,
   "id": "6c2a4ad5",
   "metadata": {},
   "outputs": [
    {
     "name": "stdout",
     "output_type": "stream",
     "text": [
      "94/94 [==============================] - 2s 10ms/step - loss: 0.8544 - accuracy: 0.6227\n",
      "Test accuracy = 0.6226666569709778\n"
     ]
    }
   ],
   "source": [
    "test_loss, test_acc = clmodel.evaluate(TX,ty)\n",
    "print(\"Test accuracy of singular CNN model = \" + str(test_acc) )"
   ]
  },
  {
   "cell_type": "code",
   "execution_count": 13,
   "id": "de18e74c",
   "metadata": {},
   "outputs": [
    {
     "name": "stdout",
     "output_type": "stream",
     "text": [
      "Model: \"sequential_2\"\n",
      "_________________________________________________________________\n",
      "Layer (type)                 Output Shape              Param #   \n",
      "=================================================================\n",
      "embedding_2 (Embedding)      (None, 50, 128)           2560000   \n",
      "_________________________________________________________________\n",
      "lstm_1 (LSTM)                (None, 264)               415008    \n",
      "_________________________________________________________________\n",
      "dense_5 (Dense)              (None, 64)                16960     \n",
      "_________________________________________________________________\n",
      "dropout (Dropout)            (None, 64)                0         \n",
      "_________________________________________________________________\n",
      "dense_6 (Dense)              (None, 3)                 195       \n",
      "=================================================================\n",
      "Total params: 2,992,163\n",
      "Trainable params: 2,992,163\n",
      "Non-trainable params: 0\n",
      "_________________________________________________________________\n",
      "Epoch 1/7\n",
      "115/115 [==============================] - 14s 96ms/step - loss: 0.9929 - accuracy: 0.4758 - val_loss: 0.8188 - val_accuracy: 0.6300\n",
      "Epoch 2/7\n",
      "115/115 [==============================] - 11s 95ms/step - loss: 0.8070 - accuracy: 0.6307 - val_loss: 0.7334 - val_accuracy: 0.6903\n",
      "Epoch 3/7\n",
      "115/115 [==============================] - 12s 103ms/step - loss: 0.7059 - accuracy: 0.6948 - val_loss: 0.6907 - val_accuracy: 0.7227\n",
      "Epoch 4/7\n",
      "115/115 [==============================] - 11s 98ms/step - loss: 0.6715 - accuracy: 0.7150 - val_loss: 0.6597 - val_accuracy: 0.7387\n",
      "Epoch 5/7\n",
      "115/115 [==============================] - 10s 83ms/step - loss: 0.6067 - accuracy: 0.7498 - val_loss: 0.6109 - val_accuracy: 0.7553\n",
      "Epoch 6/7\n",
      "115/115 [==============================] - 9s 76ms/step - loss: 0.5633 - accuracy: 0.7690 - val_loss: 0.5913 - val_accuracy: 0.7740\n",
      "Epoch 7/7\n",
      "115/115 [==============================] - 8s 70ms/step - loss: 0.5219 - accuracy: 0.7876 - val_loss: 0.5645 - val_accuracy: 0.7860\n"
     ]
    }
   ],
   "source": [
    "# Model no 3\n",
    "\n",
    "model = Sequential()\n",
    "model.add(InputLayer(input_shape=X.shape[1]))\n",
    "model.add(Embedding(vocab_size, embed_size))\n",
    "model.add(LSTM(units=264, activation='tanh'))\n",
    "model.add(Dense(units=64,activation='tanh'))\n",
    "model.add(Dropout(0.5))\n",
    "model.add(Dense(units=3, activation='softmax'))\n",
    "\n",
    "model.compile(optimizer=tf.keras.optimizers.Adam(), loss=\"sparse_categorical_crossentropy\", metrics = ['accuracy'])\n",
    "\n",
    "model.summary()\n",
    "\n",
    "history3 = model.fit(X, y, epochs=7, batch_size=128,verbose=1,validation_data=(VX,vy))"
   ]
  },
  {
   "cell_type": "code",
   "execution_count": 14,
   "id": "47e664ae",
   "metadata": {},
   "outputs": [
    {
     "name": "stdout",
     "output_type": "stream",
     "text": [
      "94/94 [==============================] - 1s 6ms/step - loss: 0.9735 - accuracy: 0.5967\n",
      "Test accuracy = 0.596666693687439\n"
     ]
    }
   ],
   "source": [
    "test_loss, test_acc = model.evaluate(TX,ty)\n",
    "print(\"Test accuracy of singular LSTM model = \" + str(test_acc) )"
   ]
  },
  {
   "cell_type": "code",
   "execution_count": 15,
   "id": "ac9dc772",
   "metadata": {},
   "outputs": [
    {
     "name": "stdout",
     "output_type": "stream",
     "text": [
      "Model: \"sequential_3\"\n",
      "_________________________________________________________________\n",
      "Layer (type)                 Output Shape              Param #   \n",
      "=================================================================\n",
      "embedding_3 (Embedding)      (None, 50, 128)           2560000   \n",
      "_________________________________________________________________\n",
      "conv1d_1 (Conv1D)            (None, 48, 64)            24640     \n",
      "_________________________________________________________________\n",
      "conv1d_2 (Conv1D)            (None, 46, 32)            6176      \n",
      "_________________________________________________________________\n",
      "conv1d_3 (Conv1D)            (None, 44, 16)            1552      \n",
      "_________________________________________________________________\n",
      "global_average_pooling1d_1 ( (None, 16)                0         \n",
      "_________________________________________________________________\n",
      "dense_7 (Dense)              (None, 8)                 136       \n",
      "_________________________________________________________________\n",
      "dense_8 (Dense)              (None, 3)                 27        \n",
      "=================================================================\n",
      "Total params: 2,592,531\n",
      "Trainable params: 2,592,531\n",
      "Non-trainable params: 0\n",
      "_________________________________________________________________\n",
      "Epoch 1/10\n",
      "115/115 [==============================] - 13s 92ms/step - loss: 1.0524 - accuracy: 0.4039 - val_loss: 0.8863 - val_accuracy: 0.5807\n",
      "Epoch 2/10\n",
      "115/115 [==============================] - 7s 58ms/step - loss: 0.8330 - accuracy: 0.6053 - val_loss: 0.8679 - val_accuracy: 0.5720\n",
      "Epoch 3/10\n",
      "115/115 [==============================] - 9s 78ms/step - loss: 0.7957 - accuracy: 0.6297 - val_loss: 0.8166 - val_accuracy: 0.6173\n",
      "Epoch 4/10\n",
      "115/115 [==============================] - 8s 69ms/step - loss: 0.7625 - accuracy: 0.6537 - val_loss: 0.7654 - val_accuracy: 0.6583\n",
      "Epoch 5/10\n",
      "115/115 [==============================] - 9s 75ms/step - loss: 0.7266 - accuracy: 0.6757 - val_loss: 0.7544 - val_accuracy: 0.6563\n",
      "Epoch 6/10\n",
      "115/115 [==============================] - 8s 69ms/step - loss: 0.7025 - accuracy: 0.6968 - val_loss: 0.7568 - val_accuracy: 0.6730\n",
      "Epoch 7/10\n",
      "115/115 [==============================] - 8s 66ms/step - loss: 0.6867 - accuracy: 0.6982 - val_loss: 0.7163 - val_accuracy: 0.6937\n",
      "Epoch 8/10\n",
      "115/115 [==============================] - 8s 68ms/step - loss: 0.6571 - accuracy: 0.7171 - val_loss: 0.6901 - val_accuracy: 0.7067\n",
      "Epoch 9/10\n",
      "115/115 [==============================] - 8s 70ms/step - loss: 0.6288 - accuracy: 0.7319 - val_loss: 0.6963 - val_accuracy: 0.7007\n",
      "Epoch 10/10\n",
      "115/115 [==============================] - 6s 52ms/step - loss: 0.6233 - accuracy: 0.7373 - val_loss: 0.6747 - val_accuracy: 0.7240\n"
     ]
    }
   ],
   "source": [
    "# Model no 4\n",
    "\n",
    "cnn = Sequential()\n",
    "cnn.add(InputLayer(input_shape=X.shape[1]))\n",
    "cnn.add(Embedding(vocab_size, embed_size))\n",
    "cnn.add(Conv1D(64, kernel_size=3))\n",
    "cnn.add(Conv1D(32, kernel_size=3))\n",
    "cnn.add(Conv1D(16, kernel_size=3))\n",
    "cnn.add(GlobalAveragePooling1D())\n",
    "cnn.add(Dense(units=8, activation='relu'))\n",
    "cnn.add(Dense(units=3, activation='softmax'))\n",
    "\n",
    "cnn.compile(optimizer=tf.keras.optimizers.Adam(), loss=\"sparse_categorical_crossentropy\", metrics = ['accuracy'])\n",
    "\n",
    "cnn.summary()\n",
    "\n",
    "history4 = cnn.fit(X, y, epochs=10, batch_size=128,verbose=1,validation_data=(VX,vy))"
   ]
  },
  {
   "cell_type": "code",
   "execution_count": 16,
   "id": "9a8e6596",
   "metadata": {},
   "outputs": [
    {
     "name": "stdout",
     "output_type": "stream",
     "text": [
      "94/94 [==============================] - 2s 13ms/step - loss: 0.8701 - accuracy: 0.6220\n",
      "Test accuracy = 0.621999979019165\n"
     ]
    }
   ],
   "source": [
    "test_loss, test_acc = cnn.evaluate(TX,ty)\n",
    "print(\"Test accuracy of CNN model = \" + str(test_acc) )"
   ]
  },
  {
   "cell_type": "code",
   "execution_count": 17,
   "id": "3b30aa8d",
   "metadata": {},
   "outputs": [],
   "source": [
    "x1 = bimodel.predict(TX)\n",
    "x2 = clmodel.predict(TX)\n",
    "x3 = model.predict(TX)\n",
    "x4 = cnn.predict(TX)"
   ]
  },
  {
   "cell_type": "code",
   "execution_count": 18,
   "id": "c8c42a4d",
   "metadata": {},
   "outputs": [],
   "source": [
    "x5 = bimodel.predict(VX)\n",
    "x6 = clmodel.predict(VX)\n",
    "x7 = model.predict(VX)\n",
    "x8 = cnn.predict(VX)"
   ]
  },
  {
   "cell_type": "code",
   "execution_count": 19,
   "id": "46711dad",
   "metadata": {},
   "outputs": [],
   "source": [
    "x4=np.reshape(x4,(3000,3))\n",
    "x8=np.reshape(x4,(3000,3))"
   ]
  },
  {
   "cell_type": "code",
   "execution_count": 20,
   "id": "a56b23af",
   "metadata": {},
   "outputs": [],
   "source": [
    "a=[]\n",
    "for i in range(len(x1)):\n",
    "    b=[]\n",
    "    for j in range(len(x1[i])):\n",
    "        z = max(x1[i][j],x2[i][j],x3[i][j],x4[i][j] )\n",
    "        b.append(z)\n",
    "    a.append(b)\n",
    "    b=[]"
   ]
  },
  {
   "cell_type": "code",
   "execution_count": 21,
   "id": "ed37724c",
   "metadata": {},
   "outputs": [],
   "source": [
    "c=[]\n",
    "for i in range(len(x5)):\n",
    "    d=[]\n",
    "    for j in range(len(x5[i])):\n",
    "        z = max(x5[i][j],x6[i][j],x7[i][j],x8[i][j] )\n",
    "        d.append(z)\n",
    "    c.append(d)\n",
    "    d=[]"
   ]
  },
  {
   "cell_type": "code",
   "execution_count": 22,
   "id": "bc8488f9",
   "metadata": {},
   "outputs": [],
   "source": [
    "a=np.array(a)\n",
    "a=np.argmax(a,axis=1)"
   ]
  },
  {
   "cell_type": "code",
   "execution_count": 23,
   "id": "0cac4c52",
   "metadata": {},
   "outputs": [],
   "source": [
    "c=np.array(c)\n",
    "c=np.argmax(c,axis=1)"
   ]
  },
  {
   "cell_type": "code",
   "execution_count": 24,
   "id": "47e699a0",
   "metadata": {},
   "outputs": [
    {
     "name": "stdout",
     "output_type": "stream",
     "text": [
      "Test accuracy = 0.6196666666666667\n"
     ]
    }
   ],
   "source": [
    "test_acc = accuracy_score(ty,a)\n",
    "print(\"Test accuracy = \" + str(test_acc) )"
   ]
  },
  {
   "cell_type": "code",
   "execution_count": 25,
   "id": "f9962d85",
   "metadata": {},
   "outputs": [
    {
     "name": "stdout",
     "output_type": "stream",
     "text": [
      "Validation accuracy = 0.716\n"
     ]
    }
   ],
   "source": [
    "val_acc = accuracy_score(vy,c)\n",
    "print(\"Validation accuracy = \" + str(val_acc) )"
   ]
  },
  {
   "cell_type": "code",
   "execution_count": 26,
   "id": "ca6033bd",
   "metadata": {},
   "outputs": [],
   "source": [
    "bimodel.save(\"bimodel.h5\")\n",
    "clmodel.save(\"clmodel.h5\")\n",
    "model.save(\"model.h5\")\n",
    "cnn.save(\"cnn.h5\")"
   ]
  },
  {
   "cell_type": "code",
   "execution_count": null,
   "id": "d3f33c57",
   "metadata": {},
   "outputs": [],
   "source": []
  }
 ],
 "metadata": {
  "kernelspec": {
   "display_name": "Python 3",
   "language": "python",
   "name": "python3"
  },
  "language_info": {
   "codemirror_mode": {
    "name": "ipython",
    "version": 3
   },
   "file_extension": ".py",
   "mimetype": "text/x-python",
   "name": "python",
   "nbconvert_exporter": "python",
   "pygments_lexer": "ipython3",
   "version": "3.7.10"
  }
 },
 "nbformat": 4,
 "nbformat_minor": 5
}
