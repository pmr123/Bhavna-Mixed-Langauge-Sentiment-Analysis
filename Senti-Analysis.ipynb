{
 "cells": [
  {
   "cell_type": "code",
   "execution_count": 1,
   "id": "06af7262",
   "metadata": {},
   "outputs": [],
   "source": [
    "import numpy as np\n",
    "import matplotlib.pyplot as plt\n",
    "import tensorflow as tf\n",
    "import pandas as pd\n",
    "import csv\n",
    "from tensorflow.keras.preprocessing.text import Tokenizer\n",
    "from tensorflow.keras.preprocessing.sequence import pad_sequences\n",
    "from tensorflow.keras import Sequential\n",
    "from tensorflow.keras.layers import InputLayer, LSTM, Dropout, Dense, Embedding ,Bidirectional, Conv1D, GlobalAveragePooling1D\n",
    "from sklearn.model_selection import train_test_split\n",
    "from sklearn.metrics import accuracy_score"
   ]
  },
  {
   "cell_type": "code",
   "execution_count": 2,
   "id": "d6434c4f",
   "metadata": {},
   "outputs": [
    {
     "name": "stdout",
     "output_type": "stream",
     "text": [
      "Num GPUs Available:  1\n"
     ]
    }
   ],
   "source": [
    "print(\"Num GPUs Available: \", len(tf.config.list_physical_devices('GPU')))\n",
    "gpus = tf.config.experimental.list_physical_devices('GPU')\n",
    "if gpus:\n",
    "    try:\n",
    "        for gpu in gpus:\n",
    "            tf.config.experimental.set_memory_growth(gpu, True)\n",
    "    except RuntimeError as e:\n",
    "        print(e)"
   ]
  },
  {
   "cell_type": "code",
   "execution_count": 3,
   "id": "e50164d4",
   "metadata": {},
   "outputs": [],
   "source": [
    "d = pd.read_csv('C:\\\\Users\\\\prtkm\\\\Jupyter_Notebooks\\\\senti_analysis\\\\Datasets\\\\FinalTrainingOnly.tsv', sep=\"\\t\", header=None )\n",
    "\n",
    "x=d[1]\n",
    "y=d[2]\n",
    "y=list(y)\n",
    "x=list(x)\n",
    "\n",
    "for i in range(len(x)):\n",
    "    if type(x[i])==float:\n",
    "        x[i]=\" \"\n",
    "        y[i]= 1\n",
    "\n",
    "y=np.array(y)"
   ]
  },
  {
   "cell_type": "code",
   "execution_count": 4,
   "id": "8b19ddf8",
   "metadata": {},
   "outputs": [],
   "source": [
    "v = pd.read_csv('C:\\\\Users\\\\prtkm\\\\Jupyter_Notebooks\\\\senti_analysis\\\\Datasets\\\\ValidationOnly.tsv', sep=\"\\t\", header=None )\n",
    "\n",
    "vx=v[1]\n",
    "vy=v[2]\n",
    "vy=list(vy)\n",
    "vx=list(vx)\n",
    "\n",
    "for i in range(len(vx)):\n",
    "    if type(vx[i])==float:\n",
    "        vx[i]=\" \"\n",
    "        vy[i]= 1\n",
    "\n",
    "vy=np.array(vy)"
   ]
  },
  {
   "cell_type": "code",
   "execution_count": 5,
   "id": "681e8793",
   "metadata": {},
   "outputs": [],
   "source": [
    "t = pd.read_csv('C:\\\\Users\\\\prtkm\\\\Jupyter_Notebooks\\\\senti_analysis\\\\Datasets\\\\FinalTest.tsv', sep=\"\\t\", header=None )\n",
    "tx=list(t[1])\n",
    "for i in range(len(tx)):\n",
    "    if type(tx[i])==float:\n",
    "        tx[i]=\" \""
   ]
  },
  {
   "cell_type": "code",
   "execution_count": 6,
   "id": "2a451d90",
   "metadata": {},
   "outputs": [],
   "source": [
    "ty = pd.read_csv('C:\\\\Users\\\\prtkm\\\\Jupyter_Notebooks\\\\senti_analysis\\\\Datasets\\\\Ty.txt', sep=\",\", header=None )\n",
    "sentiment = []\n",
    "for i in range(len(ty)):\n",
    "    if ty[1][i]=='negative':\n",
    "        sentiment.append(0)\n",
    "    elif ty[1][i]=='neutral':\n",
    "        sentiment.append(1)\n",
    "    elif ty[1][i]=='positive':\n",
    "        sentiment.append(2)\n",
    "\n",
    "ty = np.array(sentiment)"
   ]
  },
  {
   "cell_type": "code",
   "execution_count": 7,
   "id": "d8ed70d2",
   "metadata": {},
   "outputs": [],
   "source": [
    "tokenizer = Tokenizer(num_words=2500,split=' ')\n",
    "tokenizer.fit_on_texts(x)\n",
    "\n",
    "X= tokenizer.texts_to_sequences(x)\n",
    "X = pad_sequences(X,maxlen=50)\n",
    "\n",
    "VX= tokenizer.texts_to_sequences(vx)\n",
    "VX = pad_sequences(VX,maxlen=50)\n",
    "\n",
    "\n",
    "TX = tokenizer.texts_to_sequences(tx)\n",
    "TX = pad_sequences(TX,maxlen=50)"
   ]
  },
  {
   "cell_type": "code",
   "execution_count": 8,
   "id": "fa87141c",
   "metadata": {},
   "outputs": [],
   "source": [
    "vocab_size = 20000\n",
    "embed_size = 128"
   ]
  },
  {
   "cell_type": "code",
   "execution_count": 9,
   "id": "c395f37f",
   "metadata": {},
   "outputs": [
    {
     "name": "stdout",
     "output_type": "stream",
     "text": [
      "Model: \"sequential\"\n",
      "_________________________________________________________________\n",
      "Layer (type)                 Output Shape              Param #   \n",
      "=================================================================\n",
      "embedding (Embedding)        (None, 50, 128)           2560000   \n",
      "_________________________________________________________________\n",
      "bidirectional (Bidirectional (None, 256)               263168    \n",
      "_________________________________________________________________\n",
      "dense (Dense)                (None, 64)                16448     \n",
      "_________________________________________________________________\n",
      "dense_1 (Dense)              (None, 32)                2080      \n",
      "_________________________________________________________________\n",
      "dense_2 (Dense)              (None, 3)                 99        \n",
      "=================================================================\n",
      "Total params: 2,841,795\n",
      "Trainable params: 2,841,795\n",
      "Non-trainable params: 0\n",
      "_________________________________________________________________\n",
      "Epoch 1/10\n",
      "115/115 [==============================] - 11s 64ms/step - loss: 0.9992 - accuracy: 0.4609 - val_loss: 0.8083 - val_accuracy: 0.6347\n",
      "Epoch 2/10\n",
      "115/115 [==============================] - 7s 61ms/step - loss: 0.7803 - accuracy: 0.6451 - val_loss: 0.7377 - val_accuracy: 0.6783\n",
      "Epoch 3/10\n",
      "115/115 [==============================] - 6s 50ms/step - loss: 0.7010 - accuracy: 0.7015 - val_loss: 0.6923 - val_accuracy: 0.7203\n",
      "Epoch 4/10\n",
      "115/115 [==============================] - 6s 49ms/step - loss: 0.6623 - accuracy: 0.7275 - val_loss: 0.6572 - val_accuracy: 0.7377\n",
      "Epoch 5/10\n",
      "115/115 [==============================] - 7s 58ms/step - loss: 0.6153 - accuracy: 0.7606 - val_loss: 0.6547 - val_accuracy: 0.7420\n",
      "Epoch 6/10\n",
      "115/115 [==============================] - 7s 57ms/step - loss: 0.5780 - accuracy: 0.7752 - val_loss: 0.6054 - val_accuracy: 0.7763\n",
      "Epoch 7/10\n",
      "115/115 [==============================] - 6s 55ms/step - loss: 0.5470 - accuracy: 0.7901 - val_loss: 0.5722 - val_accuracy: 0.7990\n",
      "Epoch 8/10\n",
      "115/115 [==============================] - 6s 54ms/step - loss: 0.5153 - accuracy: 0.8054 - val_loss: 0.5868 - val_accuracy: 0.7763\n",
      "Epoch 9/10\n",
      "115/115 [==============================] - 6s 49ms/step - loss: 0.4752 - accuracy: 0.8235 - val_loss: 0.5311 - val_accuracy: 0.8167\n",
      "Epoch 10/10\n",
      "115/115 [==============================] - 7s 61ms/step - loss: 0.4192 - accuracy: 0.8518 - val_loss: 0.5244 - val_accuracy: 0.8237\n"
     ]
    }
   ],
   "source": [
    "# Model no 1 \n",
    "\n",
    "bimodel = Sequential()\n",
    "bimodel.add(InputLayer(input_shape=X.shape[1]))\n",
    "bimodel.add(Embedding(vocab_size, embed_size))\n",
    "bimodel.add(Bidirectional(LSTM(128)))\n",
    "bimodel.add(Dense(64, activation='relu'))\n",
    "bimodel.add(Dense(32, activation='relu'))\n",
    "bimodel.add(Dense(3, activation='softmax'))\n",
    "\n",
    "bimodel.compile(loss='sparse_categorical_crossentropy', optimizer=tf.keras.optimizers.Adam(), metrics=['accuracy'])\n",
    "\n",
    "bimodel.summary()\n",
    "\n",
    "history1 = bimodel.fit(X, y, epochs=10, batch_size=128,verbose=1,validation_data=(VX,vy))"
   ]
  },
  {
   "cell_type": "code",
   "execution_count": 10,
   "id": "61e498b4",
   "metadata": {},
   "outputs": [
    {
     "name": "stdout",
     "output_type": "stream",
     "text": [
      "Test accuracy of BiLSTM model = 0.586\n"
     ]
    }
   ],
   "source": [
    "pred = bimodel.predict(TX)\n",
    "pred=np.argmax(pred,axis=1)\n",
    "test_acc = accuracy_score(ty,pred)\n",
    "print(\"Test accuracy of BiLSTM model = \" + str(test_acc) )"
   ]
  },
  {
   "cell_type": "code",
   "execution_count": 11,
   "id": "f3738349",
   "metadata": {},
   "outputs": [
    {
     "name": "stdout",
     "output_type": "stream",
     "text": [
      "Model: \"sequential_1\"\n",
      "_________________________________________________________________\n",
      "Layer (type)                 Output Shape              Param #   \n",
      "=================================================================\n",
      "embedding_1 (Embedding)      (None, 50, 128)           2560000   \n",
      "_________________________________________________________________\n",
      "conv1d (Conv1D)              (None, 48, 64)            24640     \n",
      "_________________________________________________________________\n",
      "global_average_pooling1d (Gl (None, 64)                0         \n",
      "_________________________________________________________________\n",
      "dense_3 (Dense)              (None, 64)                4160      \n",
      "_________________________________________________________________\n",
      "dense_4 (Dense)              (None, 3)                 195       \n",
      "=================================================================\n",
      "Total params: 2,588,995\n",
      "Trainable params: 2,588,995\n",
      "Non-trainable params: 0\n",
      "_________________________________________________________________\n",
      "Epoch 1/10\n",
      "115/115 [==============================] - 15s 68ms/step - loss: 1.0598 - accuracy: 0.4026 - val_loss: 0.8571 - val_accuracy: 0.5950\n",
      "Epoch 2/10\n",
      "115/115 [==============================] - 5s 43ms/step - loss: 0.8261 - accuracy: 0.6087 - val_loss: 0.8022 - val_accuracy: 0.6337\n",
      "Epoch 3/10\n",
      "115/115 [==============================] - 4s 37ms/step - loss: 0.7794 - accuracy: 0.6449 - val_loss: 0.7675 - val_accuracy: 0.6567\n",
      "Epoch 4/10\n",
      "115/115 [==============================] - 4s 35ms/step - loss: 0.7238 - accuracy: 0.6760 - val_loss: 0.7232 - val_accuracy: 0.6970\n",
      "Epoch 5/10\n",
      "115/115 [==============================] - 5s 45ms/step - loss: 0.6937 - accuracy: 0.6999 - val_loss: 0.7053 - val_accuracy: 0.7130\n",
      "Epoch 6/10\n",
      "115/115 [==============================] - 5s 41ms/step - loss: 0.6851 - accuracy: 0.7030 - val_loss: 0.6928 - val_accuracy: 0.7153\n",
      "Epoch 7/10\n",
      "115/115 [==============================] - 7s 61ms/step - loss: 0.6460 - accuracy: 0.7298 - val_loss: 0.6854 - val_accuracy: 0.7200\n",
      "Epoch 8/10\n",
      "115/115 [==============================] - 7s 62ms/step - loss: 0.6312 - accuracy: 0.7418 - val_loss: 0.6883 - val_accuracy: 0.7203\n",
      "Epoch 9/10\n",
      "115/115 [==============================] - 7s 64ms/step - loss: 0.6229 - accuracy: 0.7407 - val_loss: 0.7116 - val_accuracy: 0.7000\n",
      "Epoch 10/10\n",
      "115/115 [==============================] - 6s 54ms/step - loss: 0.6406 - accuracy: 0.7344 - val_loss: 0.7052 - val_accuracy: 0.7123\n"
     ]
    }
   ],
   "source": [
    "# Model no 2 \n",
    "\n",
    "clmodel = Sequential()\n",
    "clmodel.add(InputLayer(input_shape=X.shape[1]))\n",
    "clmodel.add(Embedding(vocab_size, embed_size))\n",
    "clmodel.add(Conv1D(64, kernel_size=3))\n",
    "clmodel.add(GlobalAveragePooling1D())\n",
    "clmodel.add(Dense(64, activation='relu'))\n",
    "clmodel.add(Dense(3, activation='softmax'))\n",
    "\n",
    "clmodel.compile(loss='sparse_categorical_crossentropy', optimizer=tf.keras.optimizers.Adam(), metrics=['accuracy'])\n",
    "\n",
    "clmodel.summary()\n",
    "\n",
    "history2 = clmodel.fit(X, y, epochs=10, batch_size=128,verbose=1,validation_data=(VX,vy))"
   ]
  },
  {
   "cell_type": "code",
   "execution_count": 12,
   "id": "6c2a4ad5",
   "metadata": {},
   "outputs": [
    {
     "name": "stdout",
     "output_type": "stream",
     "text": [
      "Test accuracy of singular CNN model = 0.618\n"
     ]
    }
   ],
   "source": [
    "pred = clmodel.predict(TX)\n",
    "pred=np.argmax(pred,axis=1)\n",
    "test_acc = accuracy_score(ty,pred)\n",
    "print(\"Test accuracy of singular CNN model = \" + str(test_acc) )"
   ]
  },
  {
   "cell_type": "code",
   "execution_count": 13,
   "id": "de18e74c",
   "metadata": {},
   "outputs": [
    {
     "name": "stdout",
     "output_type": "stream",
     "text": [
      "Model: \"sequential_2\"\n",
      "_________________________________________________________________\n",
      "Layer (type)                 Output Shape              Param #   \n",
      "=================================================================\n",
      "embedding_2 (Embedding)      (None, 50, 128)           2560000   \n",
      "_________________________________________________________________\n",
      "lstm_1 (LSTM)                (None, 264)               415008    \n",
      "_________________________________________________________________\n",
      "dense_5 (Dense)              (None, 64)                16960     \n",
      "_________________________________________________________________\n",
      "dropout (Dropout)            (None, 64)                0         \n",
      "_________________________________________________________________\n",
      "dense_6 (Dense)              (None, 3)                 195       \n",
      "=================================================================\n",
      "Total params: 2,992,163\n",
      "Trainable params: 2,992,163\n",
      "Non-trainable params: 0\n",
      "_________________________________________________________________\n",
      "Epoch 1/7\n",
      "115/115 [==============================] - 11s 73ms/step - loss: 0.9940 - accuracy: 0.4687 - val_loss: 0.7945 - val_accuracy: 0.6380\n",
      "Epoch 2/7\n",
      "115/115 [==============================] - 9s 76ms/step - loss: 0.7933 - accuracy: 0.6398 - val_loss: 0.7399 - val_accuracy: 0.6740\n",
      "Epoch 3/7\n",
      "115/115 [==============================] - 7s 64ms/step - loss: 0.7177 - accuracy: 0.6873 - val_loss: 0.6911 - val_accuracy: 0.7163\n",
      "Epoch 4/7\n",
      "115/115 [==============================] - 11s 96ms/step - loss: 0.6669 - accuracy: 0.7172 - val_loss: 0.6543 - val_accuracy: 0.7353\n",
      "Epoch 5/7\n",
      "115/115 [==============================] - 12s 108ms/step - loss: 0.6272 - accuracy: 0.7355 - val_loss: 0.6429 - val_accuracy: 0.7487\n",
      "Epoch 6/7\n",
      "115/115 [==============================] - 12s 109ms/step - loss: 0.5955 - accuracy: 0.7578 - val_loss: 0.6122 - val_accuracy: 0.7573\n",
      "Epoch 7/7\n",
      "115/115 [==============================] - 12s 106ms/step - loss: 0.5363 - accuracy: 0.7864 - val_loss: 0.5733 - val_accuracy: 0.7790\n"
     ]
    }
   ],
   "source": [
    "# Model no 3\n",
    "\n",
    "model = Sequential()\n",
    "model.add(InputLayer(input_shape=X.shape[1]))\n",
    "model.add(Embedding(vocab_size, embed_size))\n",
    "model.add(LSTM(units=264, activation='tanh'))\n",
    "model.add(Dense(units=64,activation='tanh'))\n",
    "model.add(Dropout(0.5))\n",
    "model.add(Dense(units=3, activation='softmax'))\n",
    "\n",
    "model.compile(optimizer=tf.keras.optimizers.Adam(), loss=\"sparse_categorical_crossentropy\", metrics = ['accuracy'])\n",
    "\n",
    "model.summary()\n",
    "\n",
    "history3 = model.fit(X, y, epochs=7, batch_size=128,verbose=1,validation_data=(VX,vy))"
   ]
  },
  {
   "cell_type": "code",
   "execution_count": 14,
   "id": "47e664ae",
   "metadata": {},
   "outputs": [
    {
     "name": "stdout",
     "output_type": "stream",
     "text": [
      "Test accuracy of singular LSTM model = 0.606\n"
     ]
    }
   ],
   "source": [
    "pred = model.predict(TX)\n",
    "pred=np.argmax(pred,axis=1)\n",
    "test_acc = accuracy_score(ty,pred)\n",
    "print(\"Test accuracy of singular LSTM model = \" + str(test_acc) )"
   ]
  },
  {
   "cell_type": "code",
   "execution_count": 15,
   "id": "ac9dc772",
   "metadata": {},
   "outputs": [
    {
     "name": "stdout",
     "output_type": "stream",
     "text": [
      "Model: \"sequential_3\"\n",
      "_________________________________________________________________\n",
      "Layer (type)                 Output Shape              Param #   \n",
      "=================================================================\n",
      "embedding_3 (Embedding)      (None, 50, 128)           2560000   \n",
      "_________________________________________________________________\n",
      "conv1d_1 (Conv1D)            (None, 48, 64)            24640     \n",
      "_________________________________________________________________\n",
      "conv1d_2 (Conv1D)            (None, 46, 32)            6176      \n",
      "_________________________________________________________________\n",
      "conv1d_3 (Conv1D)            (None, 44, 16)            1552      \n",
      "_________________________________________________________________\n",
      "global_average_pooling1d_1 ( (None, 16)                0         \n",
      "_________________________________________________________________\n",
      "dense_7 (Dense)              (None, 8)                 136       \n",
      "_________________________________________________________________\n",
      "dense_8 (Dense)              (None, 3)                 27        \n",
      "=================================================================\n",
      "Total params: 2,592,531\n",
      "Trainable params: 2,592,531\n",
      "Non-trainable params: 0\n",
      "_________________________________________________________________\n",
      "Epoch 1/10\n",
      "115/115 [==============================] - 16s 95ms/step - loss: 1.0930 - accuracy: 0.3768 - val_loss: 1.0398 - val_accuracy: 0.4580\n",
      "Epoch 2/10\n",
      "115/115 [==============================] - 7s 62ms/step - loss: 0.9649 - accuracy: 0.5126 - val_loss: 0.8344 - val_accuracy: 0.6240\n",
      "Epoch 3/10\n",
      "115/115 [==============================] - 8s 70ms/step - loss: 0.7937 - accuracy: 0.6387 - val_loss: 0.7550 - val_accuracy: 0.6723\n",
      "Epoch 4/10\n",
      "115/115 [==============================] - 7s 58ms/step - loss: 0.7199 - accuracy: 0.6820 - val_loss: 0.7487 - val_accuracy: 0.6707\n",
      "Epoch 5/10\n",
      "115/115 [==============================] - 7s 58ms/step - loss: 0.6895 - accuracy: 0.6954 - val_loss: 0.7405 - val_accuracy: 0.6817\n",
      "Epoch 6/10\n",
      "115/115 [==============================] - 8s 66ms/step - loss: 0.6922 - accuracy: 0.7017 - val_loss: 0.7203 - val_accuracy: 0.6913\n",
      "Epoch 7/10\n",
      "115/115 [==============================] - 7s 58ms/step - loss: 0.6646 - accuracy: 0.7042 - val_loss: 0.7006 - val_accuracy: 0.7117\n",
      "Epoch 8/10\n",
      "115/115 [==============================] - 6s 56ms/step - loss: 0.6563 - accuracy: 0.7164 - val_loss: 0.7180 - val_accuracy: 0.6877\n",
      "Epoch 9/10\n",
      "115/115 [==============================] - 8s 66ms/step - loss: 0.6619 - accuracy: 0.7003 - val_loss: 0.6941 - val_accuracy: 0.7113\n",
      "Epoch 10/10\n",
      "115/115 [==============================] - 8s 72ms/step - loss: 0.6252 - accuracy: 0.7294 - val_loss: 0.6802 - val_accuracy: 0.7187\n"
     ]
    }
   ],
   "source": [
    "# Model no 4\n",
    "\n",
    "cnn = Sequential()\n",
    "cnn.add(InputLayer(input_shape=X.shape[1]))\n",
    "cnn.add(Embedding(vocab_size, embed_size))\n",
    "cnn.add(Conv1D(64, kernel_size=3))\n",
    "cnn.add(Conv1D(32, kernel_size=3))\n",
    "cnn.add(Conv1D(16, kernel_size=3))\n",
    "cnn.add(GlobalAveragePooling1D())\n",
    "cnn.add(Dense(units=8, activation='relu'))\n",
    "cnn.add(Dense(units=3, activation='softmax'))\n",
    "\n",
    "cnn.compile(optimizer=tf.keras.optimizers.Adam(), loss=\"sparse_categorical_crossentropy\", metrics = ['accuracy'])\n",
    "\n",
    "cnn.summary()\n",
    "\n",
    "history4 = cnn.fit(X, y, epochs=10, batch_size=128,verbose=1,validation_data=(VX,vy))"
   ]
  },
  {
   "cell_type": "code",
   "execution_count": 16,
   "id": "9a8e6596",
   "metadata": {},
   "outputs": [
    {
     "name": "stdout",
     "output_type": "stream",
     "text": [
      "Test accuracy of CNN model = 0.6226666666666667\n"
     ]
    }
   ],
   "source": [
    "pred = cnn.predict(TX)\n",
    "pred=np.argmax(pred,axis=1)\n",
    "test_acc = accuracy_score(ty,pred)\n",
    "print(\"Test accuracy of CNN model = \" + str(test_acc) )"
   ]
  },
  {
   "cell_type": "code",
   "execution_count": 17,
   "id": "3b30aa8d",
   "metadata": {},
   "outputs": [],
   "source": [
    "x1 = bimodel.predict(TX)\n",
    "x2 = clmodel.predict(TX)\n",
    "x3 = model.predict(TX)\n",
    "x4 = cnn.predict(TX)"
   ]
  },
  {
   "cell_type": "code",
   "execution_count": 18,
   "id": "c8c42a4d",
   "metadata": {},
   "outputs": [],
   "source": [
    "x5 = bimodel.predict(VX)\n",
    "x6 = clmodel.predict(VX)\n",
    "x7 = model.predict(VX)\n",
    "x8 = cnn.predict(VX)"
   ]
  },
  {
   "cell_type": "code",
   "execution_count": 19,
   "id": "2640f8a5",
   "metadata": {},
   "outputs": [],
   "source": [
    "x9 = bimodel.predict(X)\n",
    "x10 = clmodel.predict(X)\n",
    "x11 = model.predict(X)\n",
    "x12 = cnn.predict(X)"
   ]
  },
  {
   "cell_type": "code",
   "execution_count": 20,
   "id": "f14c5526",
   "metadata": {},
   "outputs": [],
   "source": [
    "x_test = (x1+x2+x3+x4)/4\n",
    "x_test=np.argmax(x_test,axis=1)\n",
    "x_val = (x5+x6+x7+x8)/4\n",
    "x_val=np.argmax(x_val,axis=1)\n",
    "x_train = (x9+x10+x11+x12)/4\n",
    "x_train=np.argmax(x_train,axis=1)"
   ]
  },
  {
   "cell_type": "code",
   "execution_count": 21,
   "id": "47e699a0",
   "metadata": {},
   "outputs": [
    {
     "name": "stdout",
     "output_type": "stream",
     "text": [
      "Test accuracy = 0.6236666666666667\n"
     ]
    }
   ],
   "source": [
    "test_acc = accuracy_score(ty,x_test)\n",
    "print(\"Test accuracy = \" + str(test_acc) )"
   ]
  },
  {
   "cell_type": "code",
   "execution_count": 22,
   "id": "f9962d85",
   "metadata": {},
   "outputs": [
    {
     "name": "stdout",
     "output_type": "stream",
     "text": [
      "Validation accuracy = 0.7943333333333333\n"
     ]
    }
   ],
   "source": [
    "val_acc = accuracy_score(vy,x_val)\n",
    "print(\"Validation accuracy = \" + str(val_acc) )"
   ]
  },
  {
   "cell_type": "code",
   "execution_count": 23,
   "id": "953af180",
   "metadata": {},
   "outputs": [
    {
     "name": "stdout",
     "output_type": "stream",
     "text": [
      "Train accuracy = 0.8437028915992874\n"
     ]
    }
   ],
   "source": [
    "train_acc = accuracy_score(y,x_train)\n",
    "print(\"Train accuracy = \" + str(train_acc) )"
   ]
  },
  {
   "cell_type": "code",
   "execution_count": 24,
   "id": "ca6033bd",
   "metadata": {},
   "outputs": [],
   "source": [
    "bimodel.save(\"bimodel.h5\")\n",
    "clmodel.save(\"clmodel.h5\")\n",
    "model.save(\"model.h5\")\n",
    "cnn.save(\"cnn.h5\")"
   ]
  }
 ],
 "metadata": {
  "kernelspec": {
   "display_name": "Python 3",
   "language": "python",
   "name": "python3"
  },
  "language_info": {
   "codemirror_mode": {
    "name": "ipython",
    "version": 3
   },
   "file_extension": ".py",
   "mimetype": "text/x-python",
   "name": "python",
   "nbconvert_exporter": "python",
   "pygments_lexer": "ipython3",
   "version": "3.7.10"
  }
 },
 "nbformat": 4,
 "nbformat_minor": 5
}
